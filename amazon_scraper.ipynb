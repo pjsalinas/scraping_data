{
 "cells": [
  {
   "cell_type": "markdown",
   "id": "ab107cbd-30fa-4acf-b8fe-42f13e4747cd",
   "metadata": {},
   "source": [
    "# Scraping Webpage Data - Amazon"
   ]
  },
  {
   "cell_type": "code",
   "execution_count": 1,
   "id": "85335120-ffd7-4372-a3b1-b947afe32ae2",
   "metadata": {},
   "outputs": [],
   "source": [
    "# Import Libraries\n",
    "from bs4 import BeautifulSoup\n",
    "import requests\n",
    "import time\n",
    "import datetime\n",
    "\n",
    "import pandas as pd\n",
    "import numpy as np"
   ]
  },
  {
   "cell_type": "code",
   "execution_count": 2,
   "id": "fbac486d-9f73-4142-84dd-76c8d1d7df69",
   "metadata": {},
   "outputs": [],
   "source": [
    "# To change cell output font color\n",
    "class bcolors:\n",
    "    HEADER = '\\033[95m'\n",
    "    OKBLUE = '\\033[94m'\n",
    "    OKCYAN = '\\033[96m'\n",
    "    OKGREEN = '\\033[92m'\n",
    "    WARNING = '\\033[93m'\n",
    "    FAIL = '\\033[91m'\n",
    "    ENDC = '\\033[0m'\n",
    "    BOLD = '\\033[1m'\n",
    "    UNDERLINE = '\\033[4m'"
   ]
  },
  {
   "cell_type": "code",
   "execution_count": 3,
   "id": "0f08a284-e62e-4ee6-8e85-6d7208d52132",
   "metadata": {},
   "outputs": [],
   "source": [
    "# User Agent - use: whatismyuseragent.com\n",
    "USER_AGENT = \"Mozilla/5.0 (Macintosh; Intel Mac OS X 10_15_7) AppleWebKit/605.1.15 (KHTML, like Gecko) Version/16.5.1 Safari/605.1.15\""
   ]
  },
  {
   "cell_type": "code",
   "execution_count": 4,
   "id": "6d233283-aaac-433b-9b48-af9aa10044f8",
   "metadata": {},
   "outputs": [],
   "source": [
    "# Headers for the request\n",
    "HEADERS = ({'User-Agent': USER_AGENT, 'Accept-Language': \"en-US, en;q=0.5\"})"
   ]
  },
  {
   "cell_type": "code",
   "execution_count": 5,
   "id": "1133ac6a-57c4-4af9-9218-29f46086b91e",
   "metadata": {},
   "outputs": [],
   "source": [
    "# Url of the page to scrap - kettlebell items\n",
    "#URL = \"https://www.amazon.com/s?k=kettlebell&crid=2PEDPQD374AZF&sprefix=kettlebell%2Caps%2C104&ref=nb_sb_noss_1\""
   ]
  },
  {
   "cell_type": "code",
   "execution_count": 6,
   "id": "1ccbf83f-e447-46a5-bd33-6bae8ff98753",
   "metadata": {},
   "outputs": [],
   "source": [
    "# Dictionary to hold the data scraped\n",
    "d = {'title': [], 'price': [], 'rating': []}"
   ]
  },
  {
   "cell_type": "code",
   "execution_count": 7,
   "id": "5215e480-1c79-493a-8662-024690c14fa1",
   "metadata": {},
   "outputs": [],
   "source": [
    "# Function to extract Product Title\n",
    "def get_title(product):\n",
    "\n",
    "    try:\n",
    "        # Outer Tag Object\n",
    "        title = product.find(\"span\", class_=\"a-text-normal\")\n",
    "\n",
    "        # Inner NavigableString Object\n",
    "        title_value = title.text\n",
    "\n",
    "        # Title as a string value\n",
    "        title_string = title_value.strip()\n",
    "\n",
    "    except AttributeError:\n",
    "        title_string = \"\"\n",
    "\n",
    "    return title_string\n"
   ]
  },
  {
   "cell_type": "code",
   "execution_count": 8,
   "id": "1244725d-d030-47ff-af0c-c378a7f87618",
   "metadata": {},
   "outputs": [],
   "source": [
    "# Function to extract Product Price\n",
    "def get_price(product):\n",
    "\n",
    "    try:\n",
    "        price = product.find(\"span\", class_=\"a-offscreen\").string.strip()[1:]\n",
    "\n",
    "    except AttributeError:\n",
    "\n",
    "        try:\n",
    "            # If there is some deal price\n",
    "            price = product.find('span', attrs = {'id', 'priceblock_dealprice'}).string.strip()[1:]\n",
    "\n",
    "        except:\n",
    "            price = \"\"\n",
    "\n",
    "    return price"
   ]
  },
  {
   "cell_type": "code",
   "execution_count": 9,
   "id": "78713e18-bbb7-42c5-8dc7-640b3e226746",
   "metadata": {},
   "outputs": [],
   "source": [
    "# Function to extract Product Rating\n",
    "def get_rating(soup):\n",
    "\n",
    "    try:\n",
    "        rating = soup.find('i', attrs={'class': 'a-icon a-icon-star a-star-4-5'}).string.strip()\n",
    "\n",
    "    except AttributeError:\n",
    "        try: \n",
    "            rating = soup.find('span', attrs={'class': 'a-icon-alt'}).string.strip()\n",
    "        except:\n",
    "            rating = ''\n",
    "\n",
    "    return rating"
   ]
  },
  {
   "cell_type": "code",
   "execution_count": 10,
   "id": "5c9b32f7-3444-404f-84ec-859a3a06f892",
   "metadata": {},
   "outputs": [],
   "source": [
    "def scraper(keyword):\n",
    "    # Url of the page to scrap - kettlebell items\n",
    "    URL = \"https://www.amazon.com/s?k=\" + keyword\n",
    "\n",
    "    page = requests.get(URL, headers=HEADERS)\n",
    "    status_code = page.status_code\n",
    "    print('Status Code', page.status_code)\n",
    "\n",
    "    if status_code != 200:\n",
    "        print('Status Code', status_code)\n",
    "        return\n",
    "    else:\n",
    "        soup = BeautifulSoup(page.content, \"html.parser\")\n",
    "        \n",
    "        # Find all the product containers on the page\n",
    "        product_containers = soup.find_all(\"div\", class_=\"s-result-item\")\n",
    "        print('total items found =', len(product_containers))\n",
    "\n",
    "        for product in product_containers:\n",
    "            #title = product.find(\"span\", class_=\"a-text-normal\")\n",
    "            #price = product.find(\"span\", class_=\"a-offscreen\")\n",
    "\n",
    "            #link = product.find(\"a\", class_=\"a-link-normal\")\n",
    "            #rating = product.find('span', attrs={'class': 'a-icon-alt'})\n",
    "\n",
    "            d['title'].append(get_title(product))\n",
    "            d['price'].append(get_price(product))\n",
    "            d['rating'].append(get_rating(product))\n",
    "        "
   ]
  },
  {
   "cell_type": "code",
   "execution_count": 11,
   "id": "962d719f-c87e-4f4b-9593-6379c4026a2a",
   "metadata": {},
   "outputs": [],
   "source": [
    "# \n",
    "keyword = 'magna+safe+iphone+powerbank'"
   ]
  },
  {
   "cell_type": "markdown",
   "id": "44288a9c-39db-4960-bf71-61c80aaedbbc",
   "metadata": {},
   "source": [
    "**A search keyword or a phrase is required**"
   ]
  },
  {
   "cell_type": "code",
   "execution_count": 12,
   "id": "4278b6e0-e016-4aca-8116-e2a95e4dbbca",
   "metadata": {},
   "outputs": [
    {
     "name": "stdin",
     "output_type": "stream",
     "text": [
      "Please enter a product name or a phrase:  kettlebell\n"
     ]
    },
    {
     "name": "stdout",
     "output_type": "stream",
     "text": [
      "You entered: `kettlebell`\n"
     ]
    }
   ],
   "source": [
    "# PROMPTING THE USER TO ENTER A `word` or a `phrase` TO SEARCH\n",
    "user_input = input(\"Please enter a product name or a phrase: \")\n",
    "\n",
    "# Displaying the input\n",
    "if len(user_input) < 1:\n",
    "    print(f\"{bcolors.FAIL}That was not a valid entry, check and try again!!!{bcolors.ENDC}\")\n",
    "else:\n",
    "    print(\"You entered:\", \"`\"+user_input+\"`\")\n",
    "    num = len(user_input.split(' '))\n",
    "\n",
    "    if( num > 1):\n",
    "        keyword = user_input.split()\n",
    "        keyword = '+'.join(keyword)\n",
    "        print('keyword', f\"{bcolors.OKGREEN} {keyword} {bcolors.ENDC}\")"
   ]
  },
  {
   "cell_type": "code",
   "execution_count": 13,
   "id": "03fbeb64-7f9d-439f-8334-3ac2d70f6c62",
   "metadata": {},
   "outputs": [
    {
     "name": "stdout",
     "output_type": "stream",
     "text": [
      "Status Code 200\n",
      "total items found = 39\n"
     ]
    }
   ],
   "source": [
    "scraper(keyword)"
   ]
  },
  {
   "cell_type": "code",
   "execution_count": 14,
   "id": "bbdf7a27-0f29-4710-be2a-5ab202649ff9",
   "metadata": {},
   "outputs": [],
   "source": [
    "# Create DataFrame from dictionary\n",
    "amazon_df = pd.DataFrame.from_dict(d)"
   ]
  },
  {
   "cell_type": "code",
   "execution_count": 15,
   "id": "157f0bd1-823a-4af8-9316-6d795d0d0b17",
   "metadata": {},
   "outputs": [
    {
     "name": "stdout",
     "output_type": "stream",
     "text": [
      "Number of Rows: 39\n",
      "Number of Columns: 3\n"
     ]
    }
   ],
   "source": [
    "# Get the dimensions of the DataFrame\n",
    "num_rows, num_columns = amazon_df.shape\n",
    "\n",
    "print(\"Number of Rows:\", num_rows)\n",
    "print(\"Number of Columns:\", num_columns)"
   ]
  },
  {
   "cell_type": "code",
   "execution_count": 16,
   "id": "dc58e602-952f-4d84-9630-ca9328c34cd3",
   "metadata": {},
   "outputs": [
    {
     "name": "stdout",
     "output_type": "stream",
     "text": [
      "<class 'pandas.core.frame.DataFrame'>\n",
      "RangeIndex: 39 entries, 0 to 38\n",
      "Data columns (total 3 columns):\n",
      " #   Column  Non-Null Count  Dtype \n",
      "---  ------  --------------  ----- \n",
      " 0   title   39 non-null     object\n",
      " 1   price   39 non-null     object\n",
      " 2   rating  39 non-null     object\n",
      "dtypes: object(3)\n",
      "memory usage: 1.0+ KB\n"
     ]
    }
   ],
   "source": [
    "amazon_df.info()"
   ]
  },
  {
   "cell_type": "code",
   "execution_count": 17,
   "id": "8de4eb23-02ad-4291-bb5a-625a4473a3bd",
   "metadata": {},
   "outputs": [],
   "source": [
    "# Replace the title on those entries whose title is empty with a `nan` value, then drop them.\n",
    "amazon_df['title'].replace('', np.nan, inplace=True)\n",
    "amazon_df = amazon_df.dropna(subset=['title'])"
   ]
  },
  {
   "cell_type": "code",
   "execution_count": 18,
   "id": "d4d95df0-a65d-4e4c-b47e-9d11937f2210",
   "metadata": {},
   "outputs": [
    {
     "name": "stdout",
     "output_type": "stream",
     "text": [
      "<class 'pandas.core.frame.DataFrame'>\n",
      "Index: 30 entries, 3 to 34\n",
      "Data columns (total 3 columns):\n",
      " #   Column  Non-Null Count  Dtype \n",
      "---  ------  --------------  ----- \n",
      " 0   title   30 non-null     object\n",
      " 1   price   30 non-null     object\n",
      " 2   rating  30 non-null     object\n",
      "dtypes: object(3)\n",
      "memory usage: 960.0+ bytes\n"
     ]
    }
   ],
   "source": [
    "amazon_df.info()"
   ]
  },
  {
   "cell_type": "code",
   "execution_count": 19,
   "id": "8df1f6f9-c2db-43e5-ac97-05dbe3dd6344",
   "metadata": {},
   "outputs": [],
   "source": [
    "# Save `df` as a `csv` file\n",
    "amazon_df.to_csv('_'.join(user_input.split(' '))+'_amazon_scraped_data.csv', header=True, index=False)"
   ]
  }
 ],
 "metadata": {
  "kernelspec": {
   "display_name": "Python 3 (ipykernel)",
   "language": "python",
   "name": "python3"
  },
  "language_info": {
   "codemirror_mode": {
    "name": "ipython",
    "version": 3
   },
   "file_extension": ".py",
   "mimetype": "text/x-python",
   "name": "python",
   "nbconvert_exporter": "python",
   "pygments_lexer": "ipython3",
   "version": "3.11.4"
  }
 },
 "nbformat": 4,
 "nbformat_minor": 5
}
